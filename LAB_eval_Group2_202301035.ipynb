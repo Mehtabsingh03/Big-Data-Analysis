{
  "nbformat": 4,
  "nbformat_minor": 0,
  "metadata": {
    "colab": {
      "provenance": [],
      "authorship_tag": "ABX9TyO4+5ojxHbjOuVSn6I861it",
      "include_colab_link": true
    },
    "kernelspec": {
      "name": "python3",
      "display_name": "Python 3"
    },
    "language_info": {
      "name": "python"
    }
  },
  "cells": [
    {
      "cell_type": "markdown",
      "metadata": {
        "id": "view-in-github",
        "colab_type": "text"
      },
      "source": [
        "<a href=\"https://colab.research.google.com/github/Mehtabsingh03/Big-Data-Analysis/blob/main/LAB_eval_Group2_202301035.ipynb\" target=\"_parent\"><img src=\"https://colab.research.google.com/assets/colab-badge.svg\" alt=\"Open In Colab\"/></a>"
      ]
    },
    {
      "cell_type": "code",
      "execution_count": 2,
      "metadata": {
        "colab": {
          "base_uri": "https://localhost:8080/"
        },
        "id": "0MQL6GrNVwcY",
        "outputId": "bc8d82c1-0a2c-45ca-d626-98ac6318efac"
      },
      "outputs": [
        {
          "output_type": "stream",
          "name": "stdout",
          "text": [
            "[ 10  52  62  16  16  54 453]\n",
            "[ 10  16  16  52  54  62 453]\n"
          ]
        }
      ],
      "source": [
        "\n",
        "import numpy as np\n",
        "arr = np.array([10,52,62,16,16,54,453])\n",
        "print(arr)\n",
        "\n",
        "\n",
        "sorted_arr = np.sort(arr);\n",
        "print(sorted_arr)\n",
        "\n",
        "\n"
      ]
    },
    {
      "cell_type": "code",
      "source": [
        "import numpy as np\n",
        "arr = np.array([10,52,62,16,16,54,453])\n",
        "print(arr)\n",
        "\n",
        "sorted_indices = np.argsort(arr)\n",
        "\n",
        "print(sorted_indices)"
      ],
      "metadata": {
        "colab": {
          "base_uri": "https://localhost:8080/"
        },
        "id": "ozkZ1KTEZnAB",
        "outputId": "7a57c16a-25af-4fb7-9d61-a51fdc749c26"
      },
      "execution_count": 10,
      "outputs": [
        {
          "output_type": "stream",
          "name": "stdout",
          "text": [
            "[ 10  52  62  16  16  54 453]\n",
            "[ 10  16  16  52  54  62 453]\n",
            "[0 3 4 1 5 2 6]\n"
          ]
        }
      ]
    },
    {
      "cell_type": "code",
      "source": [
        "import numpy as np\n",
        "arr = np.array([10,52,62,16,16,54,453])\n",
        "print(arr)\n",
        "sorted_arr = np.sort(arr);\n",
        "unique_arr = np.unique(sorted_arr)\n",
        "print(unique_arr[:4])\n"
      ],
      "metadata": {
        "colab": {
          "base_uri": "https://localhost:8080/"
        },
        "id": "1BfcQ-DIZ-pL",
        "outputId": "655a6167-ee45-4d57-e610-9175eaec60b6"
      },
      "execution_count": 11,
      "outputs": [
        {
          "output_type": "stream",
          "name": "stdout",
          "text": [
            "[ 10  52  62  16  16  54 453]\n",
            "[10 16 52 54]\n"
          ]
        }
      ]
    },
    {
      "cell_type": "code",
      "source": [
        "import numpy as np\n",
        "arr = np.array([10,52,62,16,16,54,453])\n",
        "sorted_arr = np.sort(arr);\n",
        "unique_arr = np.unique(sorted_arr)\n",
        "print(sorted_arr[-5:])"
      ],
      "metadata": {
        "colab": {
          "base_uri": "https://localhost:8080/"
        },
        "id": "nfTSzFzIaOLS",
        "outputId": "1a0fc1c0-c970-4f65-e34a-f7ac05b33063"
      },
      "execution_count": 12,
      "outputs": [
        {
          "output_type": "stream",
          "name": "stdout",
          "text": [
            "[ 16  52  54  62 453]\n"
          ]
        }
      ]
    }
  ]
}