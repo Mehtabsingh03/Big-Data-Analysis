{
  "nbformat": 4,
  "nbformat_minor": 0,
  "metadata": {
    "colab": {
      "provenance": [],
      "authorship_tag": "ABX9TyNXHED9rqR5GdmcN33e4fmp",
      "include_colab_link": true
    },
    "kernelspec": {
      "name": "python3",
      "display_name": "Python 3"
    },
    "language_info": {
      "name": "python"
    }
  },
  "cells": [
    {
      "cell_type": "markdown",
      "metadata": {
        "id": "view-in-github",
        "colab_type": "text"
      },
      "source": [
        "<a href=\"https://colab.research.google.com/github/Mehtabsingh03/Big-Data-Analysis/blob/main/assignment3_12feb_202301035.ipynb\" target=\"_parent\"><img src=\"https://colab.research.google.com/assets/colab-badge.svg\" alt=\"Open In Colab\"/></a>"
      ]
    },
    {
      "cell_type": "code",
      "execution_count": null,
      "metadata": {
        "colab": {
          "base_uri": "https://localhost:8080/"
        },
        "id": "ZjaCfCBCjjcY",
        "outputId": "8108633a-7b4d-49ac-b854-e1b6ab797973"
      },
      "outputs": [
        {
          "output_type": "stream",
          "name": "stdout",
          "text": [
            "     Refund Marital Status Taxable Income Cheat\n",
            "S.No                                           \n",
            "1       Yes         Single           125k    No\n",
            "2        No        Married           100k   Yes\n",
            "3        No         Single            70k    No\n",
            "4       Yes        Married           120k   Yes\n",
            "5        No       Divorced           220k    No\n",
            "6       Yes        Married           339k   Yes\n",
            "7       Yes         Single           123k    No\n",
            "8        No        Married            85k    No\n",
            "9       Yes       Divorced           854k    No\n"
          ]
        }
      ],
      "source": [
        "#Q.1 Create a dataset as follow in the table\n",
        "import pandas as pd\n",
        "dataset={\n",
        "    \"Refund\": [\"Yes\",\"No\",\"No\",\"Yes\",\"No\",\"Yes\",\"Yes\",\"No\",\"Yes\"],\n",
        "    \"Marital Status\": [\"Single\",\"Married\",\"Single\",\"Married\",\"Divorced\",\"Married\",\"Single\",\"Married\",\"Divorced\"],\n",
        "    \"Taxable Income\": [\"125k\",\"100k\",\"70k\",\"120k\",\"220k\",\"339k\",\"123k\",\"85k\",\"854k\"],\n",
        "    \"Cheat\" : [\"No\",\"Yes\",\"No\",\"Yes\",\"No\",\"Yes\",\"No\",\"No\",\"No\"]\n",
        "}\n",
        "#da = pd.DataFrame(dataset)\n",
        "da=pd.DataFrame(dataset,index= pd.RangeIndex(start=1,stop=10,name=\"S.No\"))\n",
        "print(da)"
      ]
    },
    {
      "cell_type": "code",
      "source": [
        "import pandas as pd\n",
        "dataset={\n",
        "    \"Refund\": [\"Yes\",\"No\",\"No\",\"Yes\",\"No\",\"Yes\",\"Yes\",\"No\",\"Yes\"],\n",
        "    \"Marital Status\": [\"Single\",\"Married\",\"Single\",\"Married\",\"Divorced\",\"Married\",\"Single\",\"Married\",\"Divorced\"],\n",
        "    \"Taxable Income\": [\"125k\",\"100k\",\"70k\",\"120k\",\"220k\",\"339k\",\"123k\",\"85k\",\"854k\"],\n",
        "    \"Cheat\" : [\"No\",\"Yes\",\"No\",\"Yes\",\"No\",\"Yes\",\"No\",\"No\",\"No\"]\n",
        "}\n",
        "da = pd.DataFrame(dataset)\n",
        "#da=pd.DataFrame(dataset,index= pd.RangeIndex(start=1,stop=10,name=\"S.No\"))\n",
        "print(da.loc[0])\n",
        "print(da.loc[4])\n",
        "print(da.loc[7])\n",
        "print(da.loc[8])"
      ],
      "metadata": {
        "colab": {
          "base_uri": "https://localhost:8080/"
        },
        "id": "RrsKvaQ4j0Q4",
        "outputId": "0f4e1167-7068-4055-fd19-e3159a4f48fa"
      },
      "execution_count": null,
      "outputs": [
        {
          "output_type": "stream",
          "name": "stdout",
          "text": [
            "Refund               Yes\n",
            "Marital Status    Single\n",
            "Taxable Income      125k\n",
            "Cheat                 No\n",
            "Name: 0, dtype: object\n",
            "Refund                  No\n",
            "Marital Status    Divorced\n",
            "Taxable Income        220k\n",
            "Cheat                   No\n",
            "Name: 4, dtype: object\n",
            "Refund                 No\n",
            "Marital Status    Married\n",
            "Taxable Income        85k\n",
            "Cheat                  No\n",
            "Name: 7, dtype: object\n",
            "Refund                 Yes\n",
            "Marital Status    Divorced\n",
            "Taxable Income        854k\n",
            "Cheat                   No\n",
            "Name: 8, dtype: object\n"
          ]
        }
      ]
    },
    {
      "cell_type": "code",
      "source": [
        "from google.colab import drive\n",
        "drive.mount('/content/drive')"
      ],
      "metadata": {
        "id": "RS2r-3zwk2AU",
        "outputId": "e9924c47-2057-4f3e-e18d-f46fa6bb1b31",
        "colab": {
          "base_uri": "https://localhost:8080/"
        }
      },
      "execution_count": 2,
      "outputs": [
        {
          "output_type": "stream",
          "name": "stdout",
          "text": [
            "Mounted at /content/drive\n"
          ]
        }
      ]
    },
    {
      "cell_type": "code",
      "source": [
        "import pandas as pd\n",
        "\n",
        "path = \"/content/data.csv\"\n",
        "df = pd.read_csv(path)\n",
        "\n",
        "print(df)"
      ],
      "metadata": {
        "id": "kd0tJrAqlqng",
        "outputId": "635c6a1e-0b1d-4c68-d217-dea56c3b8ed7",
        "colab": {
          "base_uri": "https://localhost:8080/"
        }
      },
      "execution_count": 6,
      "outputs": [
        {
          "output_type": "stream",
          "name": "stdout",
          "text": [
            "     Duration  Pulse  Maxpulse  Calories\n",
            "0          60    110       130     409.1\n",
            "1          60    117       145     479.0\n",
            "2          60    103       135     340.0\n",
            "3          45    109       175     282.4\n",
            "4          45    117       148     406.0\n",
            "..        ...    ...       ...       ...\n",
            "164        60    105       140     290.8\n",
            "165        60    110       145     300.0\n",
            "166        60    115       145     310.2\n",
            "167        75    120       150     320.4\n",
            "168        75    125       150     330.4\n",
            "\n",
            "[169 rows x 4 columns]\n"
          ]
        }
      ]
    }
  ]
}