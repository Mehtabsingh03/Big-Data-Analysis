{
  "nbformat": 4,
  "nbformat_minor": 0,
  "metadata": {
    "colab": {
      "provenance": [],
      "authorship_tag": "ABX9TyOHKuwUX0Ru5RjYVGVZoM66",
      "include_colab_link": true
    },
    "kernelspec": {
      "name": "python3",
      "display_name": "Python 3"
    },
    "language_info": {
      "name": "python"
    }
  },
  "cells": [
    {
      "cell_type": "markdown",
      "metadata": {
        "id": "view-in-github",
        "colab_type": "text"
      },
      "source": [
        "<a href=\"https://colab.research.google.com/github/Mehtabsingh03/Big-Data-Analysis/blob/main/assignment2_5feb_202301035.ipynb\" target=\"_parent\"><img src=\"https://colab.research.google.com/assets/colab-badge.svg\" alt=\"Open In Colab\"/></a>"
      ]
    },
    {
      "cell_type": "code",
      "execution_count": null,
      "metadata": {
        "id": "Nl_BG1E7iSJz"
      },
      "outputs": [],
      "source": [
        "\n",
        "#question1:. Reverse the NumPy array:\n",
        "import numpy as np\n",
        "# initialising numpy array\n",
        "array = np.array([1, 2, 3, 6, 4, 5])\n",
        "res = np.flip(array)\n",
        "print(\"final array\", str(res))\n",
        "\n",
        "\n"
      ]
    },
    {
      "cell_type": "code",
      "source": [
        "#question2:Compare the following numpy arrays:\n",
        "import numpy as np\n",
        "\n",
        "arr1 = np.array([[1, 2], [3, 4]])\n",
        "arr2 = np.array([[1, 2], [3, 4]])\n",
        "compare=arr1==arr2\n",
        "arr=compare.all()\n",
        "print(arr)"
      ],
      "metadata": {
        "id": "oSbJ82EuieoB"
      },
      "execution_count": null,
      "outputs": []
    },
    {
      "cell_type": "code",
      "source": [
        "#question3. Find the most frequent value and their indice(s) in the following arrays:\n",
        "import numpy as np\n",
        "x = np.array([1,2,3,4,5,1,2,1,1,1])\n",
        "y = np.array([1, 1, 1, 2, 3, 4, 2, 4, 3, 3,4,4,4])\n",
        "print(\"Original array:\")\n",
        "print(x)\n",
        "print(y)\n",
        "print(\"Most frequent value in the above array:\")\n",
        "print(np.bincount(x).argmax())\n",
        "print(\"Most frequent value in the above array:\")\n",
        "print(np.bincount(y).argmax())"
      ],
      "metadata": {
        "id": "wEfz2HBwihbC"
      },
      "execution_count": null,
      "outputs": []
    },
    {
      "cell_type": "code",
      "source": [
        "#question4:\n",
        "import numpy as np\n",
        "gfg = np.matrix('[4, 1, 9; 12, 3, 1; 4, 5, 6]')\n",
        "sum_all_elements = gfg.sum()\n",
        "sum_row_wise = gfg.sum(axis=1)\n",
        "sum_column_wise = gfg.sum(axis=0)\n",
        "\n",
        "print(\"i. Sum of all elements:\", sum_all_elements)\n",
        "print(\"ii. Sum of all elements row-wise:\", sum_row_wise)\n",
        "print(\"iii. Sum of all elements column-wise:\", sum_column_wise)"
      ],
      "metadata": {
        "id": "7bZmZGGiihmM"
      },
      "execution_count": null,
      "outputs": []
    }
  ]
}